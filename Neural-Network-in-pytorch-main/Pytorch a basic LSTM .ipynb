{
 "cells": [
  {
   "cell_type": "code",
   "execution_count": 32,
   "metadata": {},
   "outputs": [],
   "source": [
    "import torch\n",
    "import torch.nn.functional as F\n",
    "import torchvision.datasets as datasets\n",
    "import torchvision.transforms as transforms\n",
    "from torch.utils.data import (DataLoader,)\n",
    "from tqdm import tqdm\n",
    "import torch.nn as nn\n",
    "import torch.optim as optim"
   ]
  },
  {
   "cell_type": "code",
   "execution_count": 33,
   "metadata": {},
   "outputs": [],
   "source": [
    "device = \"cuda\" if torch.cuda.is_available() else \"cpu\""
   ]
  },
  {
   "cell_type": "code",
   "execution_count": 34,
   "metadata": {},
   "outputs": [],
   "source": [
    "#hyperparameters\n",
    "input_size = 28 #dimension of image\n",
    "hidden_size =256 # num neurons\n",
    "num_layers =2 \n",
    "num_classes = 10 \n",
    "sequence_length =28 #dimension of one input \n",
    "learning_rate = 0.005\n",
    "batch_size = 64\n",
    "num_epochs =3 "
   ]
  },
  {
   "cell_type": "code",
   "execution_count": 48,
   "metadata": {},
   "outputs": [],
   "source": [
    "#fc = RNN fully connected #many to one\n",
    "class RNN(nn.Module):\n",
    "    def __init__(self, input_size, hidden_size, num_layers, num_classes):\n",
    "        super(RNN, self).__init__()\n",
    "        self.hidden_size = hidden_size\n",
    "        self.num_layers = num_layers\n",
    "        self.rnn = nn.RNN(input_size, hidden_size, num_layers, batch_first =True)\n",
    "        self.fc = nn.Linear(hidden_size * sequence_length, num_classes)\n",
    "        \n",
    "    def forward(self,x):\n",
    "        #set initial hidden and cell states\n",
    "        h0= torch.zeros(self.num_layers, x.size(0), self.hidden_size).to(device)\n",
    "        \n",
    "        #forward propagate LSTM\n",
    "        out,_ = self.rnn(x,h0) # model with input size, with 1st hidden layer\n",
    "        out = out.reshape(out.shape[0],-1) #make it in one series shape\n",
    "        \n",
    "        #decode the hidden state for the last time step\n",
    "        out = self.fc(out)\n",
    "        return out\n",
    "    \n",
    "\n",
    "    \n",
    "#fc = RNN_GRU fully connected #many to one\n",
    "class RNN_GRU(nn.Module):\n",
    "    def __init__(self, input_size, hidden_size, num_layers, num_classes):\n",
    "        super(RNN_GRU, self).__init__()\n",
    "        self.hidden_size = hidden_size\n",
    "        self.num_layers = num_layers\n",
    "        self.rnn = nn.GRU(input_size, hidden_size, num_layers, batch_first =True)\n",
    "        self.fc = nn.Linear(hidden_size * sequence_length, num_classes)\n",
    "        \n",
    "    def forward(self,x):\n",
    "        #set initial hidden and cell states\n",
    "        h0= torch.zeros(self.num_layers, x.size(0), self.hidden_size).to(device)\n",
    "        \n",
    "        #forward propagate LSTM\n",
    "        out,_ = self.gru(x,h0) # model with input size, with 1st hidden layer\n",
    "        out = out.reshape(out.shape[0],-1) #make it in one series shape\n",
    "        \n",
    "        #decode the hidden state for the last time step\n",
    "        out = self.fc(out)\n",
    "        return out\n",
    "        \n",
    "\n",
    "#fc = RNN_LSTM fully connected #many to one\n",
    "class RNN_LSTM(nn.Module):\n",
    "    def __init__(self, input_size, hidden_size, num_layers, num_classes):\n",
    "        super(RNN_LSTM, self).__init__()\n",
    "        self.hidden_size = hidden_size\n",
    "        self.num_layers = num_layers\n",
    "        self.lstm = nn.LSTM(input_size, hidden_size, num_layers, batch_first =True)\n",
    "        self.fc = nn.Linear(hidden_size * sequence_length, num_classes)\n",
    "        \n",
    "    def forward(self,x):\n",
    "        #set initial hidden and cell states\n",
    "        h0= torch.zeros(self.num_layers, x.size(0), self.hidden_size).to(device)\n",
    "        c0= torch.zeros(self.num_layers, x.size(0), self.hidden_size).to(device)\n",
    "        \n",
    "        #forward propagate LSTM\n",
    "        out,_ = self.lstm(\n",
    "            x,(h0,c0)\n",
    "        ) # model with input size, with 1st hidden layer\n",
    "        out = out.reshape(out.shape[0],-1) #make it in one series shape\n",
    "        \n",
    "        #decode the hidden state for the last time step\n",
    "        out = self.fc(out)\n",
    "        return out\n"
   ]
  },
  {
   "cell_type": "code",
   "execution_count": 49,
   "metadata": {},
   "outputs": [],
   "source": [
    "train_dataset = datasets.MNIST (\n",
    "root =\"dataset/\", train=True, transform=transforms.ToTensor(), download=True\n",
    ")\n",
    "\n",
    "test_dataset = datasets.MNIST(\n",
    "root =\"dataset/\", train = False, transform=transforms.ToTensor(), download=True\n",
    ")\n",
    "\n",
    "train_loader =DataLoader(dataset =train_dataset, batch_size = batch_size, \\\n",
    "                        shuffle=True)\n",
    "test_loader = DataLoader(dataset= test_dataset, batch_size = batch_size,\\\n",
    "                        shuffle =True\n",
    "                        )"
   ]
  },
  {
   "cell_type": "code",
   "execution_count": 50,
   "metadata": {},
   "outputs": [],
   "source": [
    "#initialize model\n",
    "model = RNN_LSTM(input_size, hidden_size, num_layers, num_classes).to(device)"
   ]
  },
  {
   "cell_type": "code",
   "execution_count": 51,
   "metadata": {},
   "outputs": [],
   "source": [
    "#loss and optimizer for gradient descent\n",
    "criterion = nn.CrossEntropyLoss()\n",
    "optimizer = optim.Adam(model.parameters(), lr=learning_rate)"
   ]
  },
  {
   "cell_type": "code",
   "execution_count": 52,
   "metadata": {},
   "outputs": [
    {
     "name": "stderr",
     "output_type": "stream",
     "text": [
      "100%|██████████| 938/938 [04:47<00:00,  3.26it/s]\n",
      "100%|██████████| 938/938 [05:26<00:00,  2.87it/s]\n",
      "100%|██████████| 938/938 [04:58<00:00,  3.14it/s]\n"
     ]
    }
   ],
   "source": [
    "#train network\n",
    "for epoch in range(num_epochs):\n",
    "    for batch_idx, (data, targets) in enumerate(tqdm(train_loader)):\n",
    "        # Get data to cuda if possible\n",
    "        data = data.to(device=device).squeeze(1)\n",
    "        targets = targets.to(device=device)\n",
    "\n",
    "        # forward\n",
    "        scores = model(data)\n",
    "        loss = criterion(scores, targets)\n",
    "\n",
    "        # backward\n",
    "        optimizer.zero_grad()\n",
    "        loss.backward()\n",
    "\n",
    "        # gradient descent update step/adam step\n",
    "        optimizer.step()"
   ]
  },
  {
   "cell_type": "code",
   "execution_count": 53,
   "metadata": {},
   "outputs": [
    {
     "name": "stdout",
     "output_type": "stream",
     "text": [
      "Accuracy on training set: 98.876663\n",
      "Accuracy on test set: 98.62\n"
     ]
    }
   ],
   "source": [
    "# Check accuracy on training & test to see how good our model\n",
    "def check_accuracy(loader, model):\n",
    "    num_correct = 0\n",
    "    num_samples = 0\n",
    "\n",
    "    # Set model to eval\n",
    "    model.eval()\n",
    "\n",
    "    with torch.no_grad():\n",
    "        for x, y in loader:\n",
    "            x = x.to(device=device).squeeze(1)\n",
    "            y = y.to(device=device)\n",
    "\n",
    "            scores = model(x)\n",
    "            _, predictions = scores.max(1)\n",
    "            num_correct += (predictions == y).sum()\n",
    "            num_samples += predictions.size(0)\n",
    "\n",
    "    # Toggle model back to train\n",
    "    model.train()\n",
    "    return num_correct / num_samples\n",
    "\n",
    "\n",
    "print(f\"Accuracy on training set: {check_accuracy(train_loader, model)*100:2f}\")\n",
    "print(f\"Accuracy on test set: {check_accuracy(test_loader, model)*100:.2f}\")"
   ]
  },
  {
   "cell_type": "code",
   "execution_count": null,
   "metadata": {},
   "outputs": [],
   "source": []
  },
  {
   "cell_type": "code",
   "execution_count": null,
   "metadata": {},
   "outputs": [],
   "source": []
  },
  {
   "cell_type": "code",
   "execution_count": null,
   "metadata": {},
   "outputs": [],
   "source": []
  }
 ],
 "metadata": {
  "kernelspec": {
   "display_name": "Python 3",
   "language": "python",
   "name": "python3"
  },
  "language_info": {
   "codemirror_mode": {
    "name": "ipython",
    "version": 3
   },
   "file_extension": ".py",
   "mimetype": "text/x-python",
   "name": "python",
   "nbconvert_exporter": "python",
   "pygments_lexer": "ipython3",
   "version": "3.8.5"
  }
 },
 "nbformat": 4,
 "nbformat_minor": 4
}
